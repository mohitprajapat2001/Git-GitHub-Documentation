{
 "cells": [
  {
   "cell_type": "markdown",
   "id": "59cdb0e0-cafe-4ca9-a260-320f504dcb80",
   "metadata": {},
   "source": [
    "# Git Commands - Branching and Merging\n",
    "<!-- Boostrap Markdown File -->\n",
    "<link href=\"https://maxcdn.bootstrapcdn.com/bootstrap/3.3.6/css/bootstrap.min.css\" rel=\"stylesheet\" />\n",
    "<script src=\"https://maxcdn.bootstrapcdn.com/bootstrap/3.3.6/js/bootstrap.min.js\"></script>\n",
    "\n",
    "There are just a handful of commands that implement most of the branching and merging functionality in Git.\n",
    "\n",
    "***[Reference - 1](https://github.com/mohit-trootech/Git-GitHub-Complete/blob/master/03%20Starting%20with%20a%20New%20Repository.ipynb)***\n",
    "\n",
    "***[Reference - 2](https://github.com/mohit-trootech/Git-GitHub-Complete/blob/master/04%20Viewing%20the%20commit%20history.ipynb)***\n",
    "\n",
    "***[Reference - 3](https://github.com/mohit-trootech/Git-GitHub-Complete/blob/master/05%20Undoing%20Things.ipynb)***\n",
    "\n",
    "***[Reference - 4](https://github.com/mohit-trootech/Git-GitHub-Complete/blob/master/09%20Branching%20Introduction.ipynb)***\n",
    "\n",
    "***[Reference - 5](https://github.com/mohit-trootech/Git-GitHub-Complete/blob/master/13%20Git%20Reset.ipynb)***\n",
    "\n",
    "***[Reference - 6](https://github.com/mohit-trootech/Git-GitHub-Complete/blob/master/16%20Tagging.ipynb)***\n",
    "\n",
    "#### not a tree branch - ```git branch```\n",
    "\n",
    "The git branch command is actually something of a branch management tool. It can list the branches you have, create a new branch, delete branches and rename branches.\n",
    "\n",
    "```git branch -r -v```: this list remote branches\n",
    "\n",
    "#### switching - ```git checkout <branchname>```\n",
    "\n",
    "The git checkout command is used to switch branches and check content out into your working directory.\n",
    "\n",
    "#### Combining - ```git merge```\n",
    "\n",
    "The git merge tool is used to merge one or more branches into the branch you have checked out. It will then advance the current branch to the result of the merge.\n",
    "\n",
    "```git mergetool```\n",
    "\n",
    "The git mergetool command simply launches an external merge helper in case you have issues with a merge in Git. *Require Configuration First*\n",
    "\n",
    "#### History is Better here - ```git log```\n",
    "\n",
    "The git log command is used to show the reachable recorded history of a project from the most recent commit snapshot backwards. By default it will only show the history of the branch you’re currently on, but can be given different or even multiple heads or branches from which to traverse. It is also often used to show differences between two or more branches at the commit level.\n",
    "\n",
    "#### store but temporarily - ```git stash```\n",
    "\n",
    "The git stash command is used to temporarily store uncommitted work in order to clean out your working directory without having to commit unfinished work on a branch.\n",
    "\n",
    "#### Bookmarking - ```git tag```\n",
    "\n",
    "The git tag command is used to give a permanent bookmark to a specific point in the code history. Generally this is used for things like releases."
   ]
  }
 ],
 "metadata": {
  "kernelspec": {
   "display_name": "Python 3 (ipykernel)",
   "language": "python",
   "name": "python3"
  },
  "language_info": {
   "codemirror_mode": {
    "name": "ipython",
    "version": 3
   },
   "file_extension": ".py",
   "mimetype": "text/x-python",
   "name": "python",
   "nbconvert_exporter": "python",
   "pygments_lexer": "ipython3",
   "version": "3.11.0"
  }
 },
 "nbformat": 4,
 "nbformat_minor": 5
}
