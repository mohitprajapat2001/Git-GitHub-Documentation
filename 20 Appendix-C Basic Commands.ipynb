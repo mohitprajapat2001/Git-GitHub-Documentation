{
 "cells": [
  {
   "cell_type": "markdown",
   "id": "50db1bab-aa3f-4b48-9e0f-88fcaedd2b1c",
   "metadata": {},
   "source": [
    "# Git Commands - Basic Snapshotting\n",
    "<!-- Boostrap Markdown File -->\n",
    "<link href=\"https://maxcdn.bootstrapcdn.com/bootstrap/3.3.6/css/bootstrap.min.css\" rel=\"stylesheet\" />\n",
    "<script src=\"https://maxcdn.bootstrapcdn.com/bootstrap/3.3.6/js/bootstrap.min.js\"></script>\n",
    "\n",
    "For the basic workflow of staging content and committing it to your history, there are only a few basic commands.\n",
    "\n",
    "***[Reference - 1](https://github.com/mohit-trootech/Git-GitHub-Complete/blob/master/03%20Starting%20with%20a%20New%20Repository.ipynb)***\n",
    "***[Reference - 2](https://github.com/mohit-trootech/Git-GitHub-Complete/blob/master/04%20Viewing%20the%20commit%20history.ipynb)***\n",
    "\n",
    "\n",
    "#### Staging Files - ```git add```\n",
    "\n",
    "The git add command adds content from the working directory into the staging area (or “index”) for the next commit. When the git commit command is run, by default it only looks at this staging area, so git add is used to craft what exactly you would like your next commit snapshot to look like.\n",
    "\n",
    "#### Status of Project - ```git status```\n",
    "\n",
    "The git status command will show you the different states of files in your working directory and staging area. Which files are modified and unstaged and which are staged but not yet committed. In its normal form, it also will show you some basic hints on how to move files between these stages.\n",
    "\n",
    "#### Visible Changes - ```git diff```\n",
    "\n",
    "The git diff command is used when you want to see differences between any two trees. This could be the difference between your working environment and your staging area (git diff by itself), between your staging area and your last commit (git diff --staged), or between two commits (git diff master branchB).\n",
    "\n",
    "#### Cheese Snapshot - ```git commit```\n",
    "\n",
    "The git commit command takes all the file contents that have been staged with git add and records a new permanent snapshot in the database and then moves the branch pointer on the current branch up to it.\n",
    "\n",
    "#### Not This - ```git rm```\n",
    "\n",
    "The git rm command is used to remove files from the staging area and working directory for Git. It is similar to git add in that it stages a removal of a file for the next commit.\n",
    "\n",
    "#### Move and Rename - ```git mv```\n",
    "\n",
    "The git mv command is a thin convenience command to move a file and then run git add on the new file and git rm on the old file.\n",
    "\n",
    "#### Cleaning - ```git clean```\n",
    "\n",
    "The git clean command is used to remove unwanted files from your working directory. This could include removing temporary build artifacts or merge conflict files.\n",
    "\n",
    "#### Reseting Things - ```git reset```\n",
    "\n",
    "The git reset command is primarily used to undo things, as you can possibly tell by the verb. It moves around the HEAD pointer and optionally changes the index or staging area and can also optionally change the working directory if you use --hard. This final option makes it possible for this command to lose your work if used incorrectly, so make sure you understand it before using it.\n",
    "\n",
    "\n",
    "\n",
    "\n",
    "\n"
   ]
  }
 ],
 "metadata": {
  "kernelspec": {
   "display_name": "Python 3 (ipykernel)",
   "language": "python",
   "name": "python3"
  },
  "language_info": {
   "codemirror_mode": {
    "name": "ipython",
    "version": 3
   },
   "file_extension": ".py",
   "mimetype": "text/x-python",
   "name": "python",
   "nbconvert_exporter": "python",
   "pygments_lexer": "ipython3",
   "version": "3.11.0"
  }
 },
 "nbformat": 4,
 "nbformat_minor": 5
}
