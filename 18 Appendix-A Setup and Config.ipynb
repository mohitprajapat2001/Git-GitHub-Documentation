{
 "cells": [
  {
   "cell_type": "markdown",
   "id": "c938e949-90da-4a70-9ccb-e6500e938999",
   "metadata": {},
   "source": [
    "# Setup & Config\n",
    "<!-- Boostrap Markdown File -->\n",
    "<link href=\"https://maxcdn.bootstrapcdn.com/bootstrap/3.3.6/css/bootstrap.min.css\" rel=\"stylesheet\" />\n",
    "<script src=\"https://maxcdn.bootstrapcdn.com/bootstrap/3.3.6/js/bootstrap.min.js\"></script>\n",
    "\n",
    "There are two commands that are used quite a lot, from the first invocations of Git to common every day tweaking and referencing, the config and help commands\n",
    "\n",
    "#### git config\n",
    "\n",
    "Git have hundred of default configurations, like terminal color, commit editor, etc.\n",
    "For a lot of these things, you can tell Git to default to doing them a different way, or set your preferences.\n",
    "\n",
    "In First-Time Git Setup we used it to specify our name, email address and editor preference before we even got started using Git.\n",
    "\n",
    "1. Git comfig core.editor commands\n",
    "\n",
    "|   Editor      |                   Configuration Command                   |\n",
    "|   ------      |                   ---------------------                   |\n",
    "|   Atom        |       git config --global core.editor \"atom --wait\"       |\n",
    "|   BBEdit      |       git config --global core.editor \"bbedit -w\"         |\n",
    "|   Emacs       |       git config --global core.editor emacs               |\n",
    "|   nano        |       git config --global core.editor \"nano -w\"           |\n",
    "| Notepad       |       git config core.editor notepad                      |\n",
    "|   Vim         |       git config --global core.editor \"vim --nofork\"      |\n",
    "| Visual Studio Code |  git config --global core.editor \"code --wait\"       |\n",
    "\n",
    "***Many More are Also Available: [link](https://git-scm.com/book/en/v2/Appendix-C%3A-Git-Commands-Setup-and-Config)***\n",
    "\n",
    "#### Git Help\n",
    "\n",
    "The git help command is used to show you all the documentation shipped with Git about any command. While we’re giving a rough overview of most of the more popular ones in this appendix, for a full listing of all of the possible options and flags for every command, you can always run git help <command>.\n",
    "\n",
    "```git help status```\n"
   ]
  }
 ],
 "metadata": {
  "kernelspec": {
   "display_name": "Python 3 (ipykernel)",
   "language": "python",
   "name": "python3"
  },
  "language_info": {
   "codemirror_mode": {
    "name": "ipython",
    "version": 3
   },
   "file_extension": ".py",
   "mimetype": "text/x-python",
   "name": "python",
   "nbconvert_exporter": "python",
   "pygments_lexer": "ipython3",
   "version": "3.11.0"
  }
 },
 "nbformat": 4,
 "nbformat_minor": 5
}
