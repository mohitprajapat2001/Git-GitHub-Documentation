{
 "cells": [
  {
   "cell_type": "markdown",
   "id": "a08eb8ba-77e8-44a5-871a-5f4f0cffdec9",
   "metadata": {},
   "source": [
    "# Git Commands - Working with Projects\n",
    "<!-- Boostrap Markdown File -->\n",
    "<link href=\"https://maxcdn.bootstrapcdn.com/bootstrap/3.3.6/css/bootstrap.min.css\" rel=\"stylesheet\" />\n",
    "<script src=\"https://maxcdn.bootstrapcdn.com/bootstrap/3.3.6/js/bootstrap.min.js\"></script>\n",
    "\n",
    "There are two ways to get a Git repository. One is to copy it from an existing repository on the network or elsewhere and the other is to create a new one in an existing directory.\n",
    "\n",
    "***[Referece](https://github.com/mohit-trootech/Git-GitHub-Complete/blob/master/03%20Starting%20with%20a%20New%20Repository.ipynb)***\n",
    "\n",
    "#### Creating Project ```git init```\n",
    "\n",
    "To take a directory and turn it into a new Git repository so you can start version controlling it, you can simply run git init.\n",
    "\n",
    "#### Cloning Project ```git clone```\n",
    "\n",
    "The git clone command is actually something of a wrapper around several other commands. It creates a new directory, goes into it and runs git init to make it an empty Git repository, adds a remote (git remote add) to the URL that you pass it (by default named origin), runs a git fetch from that remote repository and then checks out the latest commit into your working directory with git checkout.\n",
    "\n"
   ]
  }
 ],
 "metadata": {
  "kernelspec": {
   "display_name": "Python 3 (ipykernel)",
   "language": "python",
   "name": "python3"
  },
  "language_info": {
   "codemirror_mode": {
    "name": "ipython",
    "version": 3
   },
   "file_extension": ".py",
   "mimetype": "text/x-python",
   "name": "python",
   "nbconvert_exporter": "python",
   "pygments_lexer": "ipython3",
   "version": "3.11.0"
  }
 },
 "nbformat": 4,
 "nbformat_minor": 5
}
