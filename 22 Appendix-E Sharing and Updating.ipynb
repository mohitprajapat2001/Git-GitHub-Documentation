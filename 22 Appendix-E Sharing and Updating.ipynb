{
 "cells": [
  {
   "cell_type": "markdown",
   "id": "9cd26b2d-dbf1-4979-a44f-70481f8afc0f",
   "metadata": {},
   "source": [
    "# Git Commands - Sharing and Updating Projects\n",
    "<!-- Boostrap Markdown File -->\n",
    "<link href=\"https://maxcdn.bootstrapcdn.com/bootstrap/3.3.6/css/bootstrap.min.css\" rel=\"stylesheet\" />\n",
    "<script src=\"https://maxcdn.bootstrapcdn.com/bootstrap/3.3.6/js/bootstrap.min.js\"></script>\n",
    "\n",
    "When you are ready to share your work or pull changes from elsewhere, there are a handful of commands that deal with remote repositories.\n",
    "\n",
    "#### Fetching - ```git fetch```\n",
    "\n",
    "The git fetch command communicates with a remote repository and fetches down all the information that is in that repository that is not in your current one and stores it in your local database.\n",
    "\n",
    "#### Pulling - ```git pull```\n",
    "\n",
    "The git pull command is basically a combination of the git fetch and git merge commands, where Git will fetch from the remote you specify and then immediately try to merge it into the branch you’re on.\n",
    "\n",
    "#### Pushing - ```git push```\n",
    "\n",
    "The git push command is used to communicate with another repository, calculate what your local database has that the remote one does not, and then pushes the difference into the other repository. It requires write access to the other repository and so normally is authenticated somehow.\n",
    "\n",
    "#### Access Community - ```git remote```\n",
    "\n",
    "The git remote command is a management tool for your record of remote repositories. It allows you to save long URLs as short handles, such as “origin” so you don’t have to type them out all the time. You can have several of these and the git remote command is used to add, change and delete them.\n",
    "\n",
    "#### Archiving - ```git archive```\n",
    "\n",
    "The git archive command is used to create an archive file of a specific snapshot of the project.\n",
    "\n",
    "\n",
    "\n"
   ]
  }
 ],
 "metadata": {
  "kernelspec": {
   "display_name": "Python 3 (ipykernel)",
   "language": "python",
   "name": "python3"
  },
  "language_info": {
   "codemirror_mode": {
    "name": "ipython",
    "version": 3
   },
   "file_extension": ".py",
   "mimetype": "text/x-python",
   "name": "python",
   "nbconvert_exporter": "python",
   "pygments_lexer": "ipython3",
   "version": "3.11.0"
  }
 },
 "nbformat": 4,
 "nbformat_minor": 5
}
